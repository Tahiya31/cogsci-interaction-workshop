{
 "cells": [
  {
   "cell_type": "markdown",
   "id": "60d5393f-5c5b-4531-b750-49a0fe660986",
   "metadata": {},
   "source": [
    "## Whisper tutorial notebook: Transcript\n",
    "\n",
    "This notebook provides an introduction to [OpenSMILE](https://audeering.github.io/opensmile/), a tool for detecting signals and features for emotion recognition from speech audio.\n",
    "\n",
    "Pros:\n",
    "* Computes low level features such as loudness, voice quality, pitch, etc.\n",
    "* It is free.\n",
    "* Keypoints detected from video using OpenPose can be used for applications related to affective computing and other behavioral reserach, etc.\n",
    "\n",
    "Cons:\n",
    "* Cannot differentiate between vocal signals if multiple speakers are talking simultaneously.\n",
    "\n",
    "To learn more about the audio features extracted, please refer to [the book](https://link.springer.com/book/10.1007/978-3-319-27299-3)."
   ]
  },
  {
   "cell_type": "markdown",
   "id": "025ecbaa-2675-4937-bd2f-d74f3aaf5e42",
   "metadata": {},
   "source": [
    "## Step 1: Install packages and libraries"
   ]
  },
  {
   "cell_type": "code",
   "execution_count": 9,
   "id": "000413a3-69b3-44ae-a5ab-02e07a85b236",
   "metadata": {
    "execution": {
     "iopub.execute_input": "2023-07-19T16:46:35.580119Z",
     "iopub.status.busy": "2023-07-19T16:46:35.579564Z",
     "iopub.status.idle": "2023-07-19T16:46:35.585886Z",
     "shell.execute_reply": "2023-07-19T16:46:35.584626Z",
     "shell.execute_reply.started": "2023-07-19T16:46:35.580069Z"
    }
   },
   "outputs": [],
   "source": [
    "# processing libraries\n",
    "import os \n",
    "import pandas as pd\n",
    "import numpy as np\n",
    "import csv"
   ]
  },
  {
   "cell_type": "markdown",
   "id": "5eb844ca-97fd-4673-afa4-a7d5afb6d755",
   "metadata": {},
   "source": [
    "If you have followed **tutorial2 on opensmile**, we walked through there how to get audio file (.wav) from\n",
    "your .mp4 video recordings. You can skip this part if you have already converted your video to audio files."
   ]
  },
  {
   "cell_type": "markdown",
   "id": "6f377588-df08-4704-b9e7-2883056e4476",
   "metadata": {},
   "source": [
    "### Specify path settings"
   ]
  },
  {
   "cell_type": "code",
   "execution_count": 18,
   "id": "a33633c2-5986-4599-8b3b-667ad4aebd07",
   "metadata": {
    "execution": {
     "iopub.execute_input": "2023-07-19T16:50:03.641039Z",
     "iopub.status.busy": "2023-07-19T16:50:03.636984Z",
     "iopub.status.idle": "2023-07-19T16:50:03.650315Z",
     "shell.execute_reply": "2023-07-19T16:50:03.649534Z",
     "shell.execute_reply.started": "2023-07-19T16:50:03.640989Z"
    }
   },
   "outputs": [],
   "source": [
    "# get audio files from conversation video files in .wav format \n",
    "BASE_PATH = os.getcwd()\n",
    "\n",
    "# where our input videos are stored\n",
    "INPUT_VIDEOS = os.path.join(BASE_PATH,'conversation_data/PID1101_ZR') \n",
    "\n",
    "# where our output audio files will be stored\n",
    "OUTPUT_AUDIOS = os.path.join(BASE_PATH, 'conversation_audios')\n",
    "\n",
    "#where final csv files containing audio features will be stored\n",
    "OUTPUT_CSVS = os.path.join(BASE_PATH,'transcripts')\n",
    "\n",
    "#create a directory to save the csv files\n",
    "try:\n",
    "    #os.mkdir(OUTPUT_AUDIOS) #uncomment this if you skipped tutorial2\n",
    "    os.mkdir(OUTPUT_CSVS)\n",
    "    \n",
    "             \n",
    "except:\n",
    "    pass"
   ]
  },
  {
   "cell_type": "markdown",
   "id": "6c673ea9-1976-489b-b8c8-0ef45634351a",
   "metadata": {},
   "source": [
    "### Convert video files to audio"
   ]
  },
  {
   "cell_type": "code",
   "execution_count": 3,
   "id": "522bb982-7105-49ab-b1e6-38dd83003f5c",
   "metadata": {
    "execution": {
     "iopub.execute_input": "2023-07-19T16:35:07.372583Z",
     "iopub.status.busy": "2023-07-19T16:35:07.371449Z",
     "iopub.status.idle": "2023-07-19T16:35:15.845239Z",
     "shell.execute_reply": "2023-07-19T16:35:15.844192Z",
     "shell.execute_reply.started": "2023-07-19T16:35:07.372540Z"
    }
   },
   "outputs": [
    {
     "name": "stdout",
     "output_type": "stream",
     "text": [
      "ffmpeg version 4.2.7-0ubuntu0.1 Copyright (c) 2000-2022 the FFmpeg developers\n",
      "  built with gcc 9 (Ubuntu 9.4.0-1ubuntu1~20.04.1)\n",
      "  configuration: --prefix=/usr --extra-version=0ubuntu0.1 --toolchain=hardened --libdir=/usr/lib/x86_64-linux-gnu --incdir=/usr/include/x86_64-linux-gnu --arch=amd64 --enable-gpl --disable-stripping --enable-avresample --disable-filter=resample --enable-avisynth --enable-gnutls --enable-ladspa --enable-libaom --enable-libass --enable-libbluray --enable-libbs2b --enable-libcaca --enable-libcdio --enable-libcodec2 --enable-libflite --enable-libfontconfig --enable-libfreetype --enable-libfribidi --enable-libgme --enable-libgsm --enable-libjack --enable-libmp3lame --enable-libmysofa --enable-libopenjpeg --enable-libopenmpt --enable-libopus --enable-libpulse --enable-librsvg --enable-librubberband --enable-libshine --enable-libsnappy --enable-libsoxr --enable-libspeex --enable-libssh --enable-libtheora --enable-libtwolame --enable-libvidstab --enable-libvorbis --enable-libvpx --enable-libwavpack --enable-libwebp --enable-libx265 --enable-libxml2 --enable-libxvid --enable-libzmq --enable-libzvbi --enable-lv2 --enable-omx --enable-openal --enable-opencl --enable-opengl --enable-sdl2 --enable-libdc1394 --enable-libdrm --enable-libiec61883 --enable-nvenc --enable-chromaprint --enable-frei0r --enable-libx264 --enable-shared\n",
      "  libavutil      56. 31.100 / 56. 31.100\n",
      "  libavcodec     58. 54.100 / 58. 54.100\n",
      "  libavformat    58. 29.100 / 58. 29.100\n",
      "  libavdevice    58.  8.100 / 58.  8.100\n",
      "  libavfilter     7. 57.100 /  7. 57.100\n",
      "  libavresample   4.  0.  0 /  4.  0.  0\n",
      "  libswscale      5.  5.100 /  5.  5.100\n",
      "  libswresample   3.  5.100 /  3.  5.100\n",
      "  libpostproc    55.  5.100 / 55.  5.100\n",
      "Input #0, mov,mp4,m4a,3gp,3g2,mj2, from '/notebooks/conversation_data/PID1101_ZR/1101_ZR_1_Aff_Video_left.mp4':\n",
      "  Metadata:\n",
      "    major_brand     : isom\n",
      "    minor_version   : 512\n",
      "    compatible_brands: isomiso2avc1mp41\n",
      "    encoder         : Lavf58.45.100\n",
      "  Duration: 00:10:18.75, start: 0.000000, bitrate: 209 kb/s\n",
      "    Stream #0:0(und): Video: h264 (High) (avc1 / 0x31637661), yuv420p, 640x720, 130 kb/s, 20 fps, 20 tbr, 10240 tbn, 40 tbc (default)\n",
      "    Metadata:\n",
      "      handler_name    : H.264/AVC video\n",
      "    Stream #0:1(und): Audio: aac (LC) (mp4a / 0x6134706D), 48000 Hz, mono, fltp, 72 kb/s (default)\n",
      "    Metadata:\n",
      "      handler_name    : AAC audio\n",
      "File '/notebooks/conversation_audios/1101_ZR_1_Aff_Video_left.wav' already exists. Overwrite ? [y/N] Stream mapping:\n",
      "  Stream #0:1 -> #0:0 (aac (native) -> pcm_s16le (native))\n",
      "Press [q] to stop, [?] for help\n",
      "Output #0, wav, to '/notebooks/conversation_audios/1101_ZR_1_Aff_Video_left.wav':\n",
      "  Metadata:\n",
      "    major_brand     : isom\n",
      "    minor_version   : 512\n",
      "    compatible_brands: isomiso2avc1mp41\n",
      "    ISFT            : Lavf58.29.100\n",
      "    Stream #0:0(und): Audio: pcm_s16le ([1][0][0][0] / 0x0001), 16000 Hz, stereo, s16, 512 kb/s (default)\n",
      "    Metadata:\n",
      "      handler_name    : AAC audio\n",
      "      encoder         : Lavc58.54.100 pcm_s16le\n",
      "size=   38671kB time=00:10:18.73 bitrate= 512.0kbits/s speed= 571x    \n",
      "video:0kB audio:38671kB subtitle:0kB other streams:0kB global headers:0kB muxing overhead: 0.000197%\n",
      "ffmpeg version 4.2.7-0ubuntu0.1 Copyright (c) 2000-2022 the FFmpeg developers\n",
      "  built with gcc 9 (Ubuntu 9.4.0-1ubuntu1~20.04.1)\n",
      "  configuration: --prefix=/usr --extra-version=0ubuntu0.1 --toolchain=hardened --libdir=/usr/lib/x86_64-linux-gnu --incdir=/usr/include/x86_64-linux-gnu --arch=amd64 --enable-gpl --disable-stripping --enable-avresample --disable-filter=resample --enable-avisynth --enable-gnutls --enable-ladspa --enable-libaom --enable-libass --enable-libbluray --enable-libbs2b --enable-libcaca --enable-libcdio --enable-libcodec2 --enable-libflite --enable-libfontconfig --enable-libfreetype --enable-libfribidi --enable-libgme --enable-libgsm --enable-libjack --enable-libmp3lame --enable-libmysofa --enable-libopenjpeg --enable-libopenmpt --enable-libopus --enable-libpulse --enable-librsvg --enable-librubberband --enable-libshine --enable-libsnappy --enable-libsoxr --enable-libspeex --enable-libssh --enable-libtheora --enable-libtwolame --enable-libvidstab --enable-libvorbis --enable-libvpx --enable-libwavpack --enable-libwebp --enable-libx265 --enable-libxml2 --enable-libxvid --enable-libzmq --enable-libzvbi --enable-lv2 --enable-omx --enable-openal --enable-opencl --enable-opengl --enable-sdl2 --enable-libdc1394 --enable-libdrm --enable-libiec61883 --enable-nvenc --enable-chromaprint --enable-frei0r --enable-libx264 --enable-shared\n",
      "  libavutil      56. 31.100 / 56. 31.100\n",
      "  libavcodec     58. 54.100 / 58. 54.100\n",
      "  libavformat    58. 29.100 / 58. 29.100\n",
      "  libavdevice    58.  8.100 / 58.  8.100\n",
      "  libavfilter     7. 57.100 /  7. 57.100\n",
      "  libavresample   4.  0.  0 /  4.  0.  0\n",
      "  libswscale      5.  5.100 /  5.  5.100\n",
      "  libswresample   3.  5.100 /  3.  5.100\n",
      "  libpostproc    55.  5.100 / 55.  5.100\n",
      "Input #0, mov,mp4,m4a,3gp,3g2,mj2, from '/notebooks/conversation_data/PID1101_ZR/1101_ZR_1_Aff_Video_right.mp4':\n",
      "  Metadata:\n",
      "    major_brand     : isom\n",
      "    minor_version   : 512\n",
      "    compatible_brands: isomiso2avc1mp41\n",
      "    encoder         : Lavf58.45.100\n",
      "  Duration: 00:10:18.75, start: 0.000000, bitrate: 218 kb/s\n",
      "    Stream #0:0(und): Video: h264 (High) (avc1 / 0x31637661), yuv420p, 640x720, 140 kb/s, 20 fps, 20 tbr, 10240 tbn, 40 tbc (default)\n",
      "    Metadata:\n",
      "      handler_name    : H.264/AVC video\n",
      "    Stream #0:1(und): Audio: aac (LC) (mp4a / 0x6134706D), 48000 Hz, mono, fltp, 72 kb/s (default)\n",
      "    Metadata:\n",
      "      handler_name    : AAC audio\n",
      "File '/notebooks/conversation_audios/1101_ZR_1_Aff_Video_right.wav' already exists. Overwrite ? [y/N] Stream mapping:\n",
      "  Stream #0:1 -> #0:0 (aac (native) -> pcm_s16le (native))\n",
      "Press [q] to stop, [?] for help\n",
      "Output #0, wav, to '/notebooks/conversation_audios/1101_ZR_1_Aff_Video_right.wav':\n",
      "  Metadata:\n",
      "    major_brand     : isom\n",
      "    minor_version   : 512\n",
      "    compatible_brands: isomiso2avc1mp41\n",
      "    ISFT            : Lavf58.29.100\n",
      "    Stream #0:0(und): Audio: pcm_s16le ([1][0][0][0] / 0x0001), 16000 Hz, stereo, s16, 512 kb/s (default)\n",
      "    Metadata:\n",
      "      handler_name    : AAC audio\n",
      "      encoder         : Lavc58.54.100 pcm_s16le\n",
      "size=   38671kB time=00:10:18.73 bitrate= 512.0kbits/s speed= 609x    \n",
      "video:0kB audio:38671kB subtitle:0kB other streams:0kB global headers:0kB muxing overhead: 0.000197%\n",
      "ffmpeg version 4.2.7-0ubuntu0.1 Copyright (c) 2000-2022 the FFmpeg developers\n",
      "  built with gcc 9 (Ubuntu 9.4.0-1ubuntu1~20.04.1)\n",
      "  configuration: --prefix=/usr --extra-version=0ubuntu0.1 --toolchain=hardened --libdir=/usr/lib/x86_64-linux-gnu --incdir=/usr/include/x86_64-linux-gnu --arch=amd64 --enable-gpl --disable-stripping --enable-avresample --disable-filter=resample --enable-avisynth --enable-gnutls --enable-ladspa --enable-libaom --enable-libass --enable-libbluray --enable-libbs2b --enable-libcaca --enable-libcdio --enable-libcodec2 --enable-libflite --enable-libfontconfig --enable-libfreetype --enable-libfribidi --enable-libgme --enable-libgsm --enable-libjack --enable-libmp3lame --enable-libmysofa --enable-libopenjpeg --enable-libopenmpt --enable-libopus --enable-libpulse --enable-librsvg --enable-librubberband --enable-libshine --enable-libsnappy --enable-libsoxr --enable-libspeex --enable-libssh --enable-libtheora --enable-libtwolame --enable-libvidstab --enable-libvorbis --enable-libvpx --enable-libwavpack --enable-libwebp --enable-libx265 --enable-libxml2 --enable-libxvid --enable-libzmq --enable-libzvbi --enable-lv2 --enable-omx --enable-openal --enable-opencl --enable-opengl --enable-sdl2 --enable-libdc1394 --enable-libdrm --enable-libiec61883 --enable-nvenc --enable-chromaprint --enable-frei0r --enable-libx264 --enable-shared\n",
      "  libavutil      56. 31.100 / 56. 31.100\n",
      "  libavcodec     58. 54.100 / 58. 54.100\n",
      "  libavformat    58. 29.100 / 58. 29.100\n",
      "  libavdevice    58.  8.100 / 58.  8.100\n",
      "  libavfilter     7. 57.100 /  7. 57.100\n",
      "  libavresample   4.  0.  0 /  4.  0.  0\n",
      "  libswscale      5.  5.100 /  5.  5.100\n",
      "  libswresample   3.  5.100 /  3.  5.100\n",
      "  libpostproc    55.  5.100 / 55.  5.100\n",
      "Input #0, mov,mp4,m4a,3gp,3g2,mj2, from '/notebooks/conversation_data/PID1101_ZR/1101_ZR_1_Arg_Video_left.mp4':\n",
      "  Metadata:\n",
      "    major_brand     : isom\n",
      "    minor_version   : 512\n",
      "    compatible_brands: isomiso2avc1mp41\n",
      "    encoder         : Lavf58.45.100\n",
      "  Duration: 00:10:00.20, start: 0.000000, bitrate: 220 kb/s\n",
      "    Stream #0:0(und): Video: h264 (High) (avc1 / 0x31637661), yuv420p, 640x720, 144 kb/s, 20 fps, 20 tbr, 10240 tbn, 40 tbc (default)\n",
      "    Metadata:\n",
      "      handler_name    : H.264/AVC video\n",
      "    Stream #0:1(und): Audio: aac (LC) (mp4a / 0x6134706D), 32000 Hz, mono, fltp, 69 kb/s (default)\n",
      "    Metadata:\n",
      "      handler_name    : AAC audio\n",
      "File '/notebooks/conversation_audios/1101_ZR_1_Arg_Video_left.wav' already exists. Overwrite ? [y/N] Stream mapping:\n",
      "  Stream #0:1 -> #0:0 (aac (native) -> pcm_s16le (native))\n",
      "Press [q] to stop, [?] for help\n",
      "Output #0, wav, to '/notebooks/conversation_audios/1101_ZR_1_Arg_Video_left.wav':\n",
      "  Metadata:\n",
      "    major_brand     : isom\n",
      "    minor_version   : 512\n",
      "    compatible_brands: isomiso2avc1mp41\n",
      "    ISFT            : Lavf58.29.100\n",
      "    Stream #0:0(und): Audio: pcm_s16le ([1][0][0][0] / 0x0001), 16000 Hz, stereo, s16, 512 kb/s (default)\n",
      "    Metadata:\n",
      "      handler_name    : AAC audio\n",
      "      encoder         : Lavc58.54.100 pcm_s16le\n",
      "size=   37510kB time=00:10:00.16 bitrate= 512.0kbits/s speed= 772x    \n",
      "video:0kB audio:37510kB subtitle:0kB other streams:0kB global headers:0kB muxing overhead: 0.000203%\n",
      "ffmpeg version 4.2.7-0ubuntu0.1 Copyright (c) 2000-2022 the FFmpeg developers\n",
      "  built with gcc 9 (Ubuntu 9.4.0-1ubuntu1~20.04.1)\n",
      "  configuration: --prefix=/usr --extra-version=0ubuntu0.1 --toolchain=hardened --libdir=/usr/lib/x86_64-linux-gnu --incdir=/usr/include/x86_64-linux-gnu --arch=amd64 --enable-gpl --disable-stripping --enable-avresample --disable-filter=resample --enable-avisynth --enable-gnutls --enable-ladspa --enable-libaom --enable-libass --enable-libbluray --enable-libbs2b --enable-libcaca --enable-libcdio --enable-libcodec2 --enable-libflite --enable-libfontconfig --enable-libfreetype --enable-libfribidi --enable-libgme --enable-libgsm --enable-libjack --enable-libmp3lame --enable-libmysofa --enable-libopenjpeg --enable-libopenmpt --enable-libopus --enable-libpulse --enable-librsvg --enable-librubberband --enable-libshine --enable-libsnappy --enable-libsoxr --enable-libspeex --enable-libssh --enable-libtheora --enable-libtwolame --enable-libvidstab --enable-libvorbis --enable-libvpx --enable-libwavpack --enable-libwebp --enable-libx265 --enable-libxml2 --enable-libxvid --enable-libzmq --enable-libzvbi --enable-lv2 --enable-omx --enable-openal --enable-opencl --enable-opengl --enable-sdl2 --enable-libdc1394 --enable-libdrm --enable-libiec61883 --enable-nvenc --enable-chromaprint --enable-frei0r --enable-libx264 --enable-shared\n",
      "  libavutil      56. 31.100 / 56. 31.100\n",
      "  libavcodec     58. 54.100 / 58. 54.100\n",
      "  libavformat    58. 29.100 / 58. 29.100\n",
      "  libavdevice    58.  8.100 / 58.  8.100\n",
      "  libavfilter     7. 57.100 /  7. 57.100\n",
      "  libavresample   4.  0.  0 /  4.  0.  0\n",
      "  libswscale      5.  5.100 /  5.  5.100\n",
      "  libswresample   3.  5.100 /  3.  5.100\n",
      "  libpostproc    55.  5.100 / 55.  5.100\n",
      "Input #0, mov,mp4,m4a,3gp,3g2,mj2, from '/notebooks/conversation_data/PID1101_ZR/1101_ZR_1_Arg_Video_right.mp4':\n",
      "  Metadata:\n",
      "    major_brand     : isom\n",
      "    minor_version   : 512\n",
      "    compatible_brands: isomiso2avc1mp41\n",
      "    encoder         : Lavf58.45.100\n",
      "  Duration: 00:10:00.20, start: 0.000000, bitrate: 225 kb/s\n",
      "    Stream #0:0(und): Video: h264 (High) (avc1 / 0x31637661), yuv420p, 640x720, 149 kb/s, 20 fps, 20 tbr, 10240 tbn, 40 tbc (default)\n",
      "    Metadata:\n",
      "      handler_name    : H.264/AVC video\n",
      "    Stream #0:1(und): Audio: aac (LC) (mp4a / 0x6134706D), 32000 Hz, mono, fltp, 69 kb/s (default)\n",
      "    Metadata:\n",
      "      handler_name    : AAC audio\n",
      "File '/notebooks/conversation_audios/1101_ZR_1_Arg_Video_right.wav' already exists. Overwrite ? [y/N] Stream mapping:\n",
      "  Stream #0:1 -> #0:0 (aac (native) -> pcm_s16le (native))\n",
      "Press [q] to stop, [?] for help\n",
      "Output #0, wav, to '/notebooks/conversation_audios/1101_ZR_1_Arg_Video_right.wav':\n",
      "  Metadata:\n",
      "    major_brand     : isom\n",
      "    minor_version   : 512\n",
      "    compatible_brands: isomiso2avc1mp41\n",
      "    ISFT            : Lavf58.29.100\n",
      "    Stream #0:0(und): Audio: pcm_s16le ([1][0][0][0] / 0x0001), 16000 Hz, stereo, s16, 512 kb/s (default)\n",
      "    Metadata:\n",
      "      handler_name    : AAC audio\n",
      "      encoder         : Lavc58.54.100 pcm_s16le\n",
      "size=   37510kB time=00:10:00.16 bitrate= 512.0kbits/s speed= 759x    \n",
      "video:0kB audio:37510kB subtitle:0kB other streams:0kB global headers:0kB muxing overhead: 0.000203%\n",
      "ffmpeg version 4.2.7-0ubuntu0.1 Copyright (c) 2000-2022 the FFmpeg developers\n",
      "  built with gcc 9 (Ubuntu 9.4.0-1ubuntu1~20.04.1)\n",
      "  configuration: --prefix=/usr --extra-version=0ubuntu0.1 --toolchain=hardened --libdir=/usr/lib/x86_64-linux-gnu --incdir=/usr/include/x86_64-linux-gnu --arch=amd64 --enable-gpl --disable-stripping --enable-avresample --disable-filter=resample --enable-avisynth --enable-gnutls --enable-ladspa --enable-libaom --enable-libass --enable-libbluray --enable-libbs2b --enable-libcaca --enable-libcdio --enable-libcodec2 --enable-libflite --enable-libfontconfig --enable-libfreetype --enable-libfribidi --enable-libgme --enable-libgsm --enable-libjack --enable-libmp3lame --enable-libmysofa --enable-libopenjpeg --enable-libopenmpt --enable-libopus --enable-libpulse --enable-librsvg --enable-librubberband --enable-libshine --enable-libsnappy --enable-libsoxr --enable-libspeex --enable-libssh --enable-libtheora --enable-libtwolame --enable-libvidstab --enable-libvorbis --enable-libvpx --enable-libwavpack --enable-libwebp --enable-libx265 --enable-libxml2 --enable-libxvid --enable-libzmq --enable-libzvbi --enable-lv2 --enable-omx --enable-openal --enable-opencl --enable-opengl --enable-sdl2 --enable-libdc1394 --enable-libdrm --enable-libiec61883 --enable-nvenc --enable-chromaprint --enable-frei0r --enable-libx264 --enable-shared\n",
      "  libavutil      56. 31.100 / 56. 31.100\n",
      "  libavcodec     58. 54.100 / 58. 54.100\n",
      "  libavformat    58. 29.100 / 58. 29.100\n",
      "  libavdevice    58.  8.100 / 58.  8.100\n",
      "  libavfilter     7. 57.100 /  7. 57.100\n",
      "  libavresample   4.  0.  0 /  4.  0.  0\n",
      "  libswscale      5.  5.100 /  5.  5.100\n",
      "  libswresample   3.  5.100 /  3.  5.100\n",
      "  libpostproc    55.  5.100 / 55.  5.100\n",
      "Input #0, mov,mp4,m4a,3gp,3g2,mj2, from '/notebooks/conversation_data/PID1101_ZR/1101_ZR_1_Coop_Video_left.mp4':\n",
      "  Metadata:\n",
      "    major_brand     : isom\n",
      "    minor_version   : 512\n",
      "    compatible_brands: isomiso2avc1mp41\n",
      "    encoder         : Lavf58.45.100\n",
      "  Duration: 00:09:25.76, start: 0.000000, bitrate: 213 kb/s\n",
      "    Stream #0:0(und): Video: h264 (High) (avc1 / 0x31637661), yuv420p, 640x720, 136 kb/s, 20 fps, 20 tbr, 10240 tbn, 40 tbc (default)\n",
      "    Metadata:\n",
      "      handler_name    : H.264/AVC video\n",
      "    Stream #0:1(und): Audio: aac (LC) (mp4a / 0x6134706D), 32000 Hz, mono, fltp, 71 kb/s (default)\n",
      "    Metadata:\n",
      "      handler_name    : AAC audio\n",
      "File '/notebooks/conversation_audios/1101_ZR_1_Coop_Video_left.wav' already exists. Overwrite ? [y/N] Stream mapping:\n",
      "  Stream #0:1 -> #0:0 (aac (native) -> pcm_s16le (native))\n",
      "Press [q] to stop, [?] for help\n",
      "Output #0, wav, to '/notebooks/conversation_audios/1101_ZR_1_Coop_Video_left.wav':\n",
      "  Metadata:\n",
      "    major_brand     : isom\n",
      "    minor_version   : 512\n",
      "    compatible_brands: isomiso2avc1mp41\n",
      "    ISFT            : Lavf58.29.100\n",
      "    Stream #0:0(und): Audio: pcm_s16le ([1][0][0][0] / 0x0001), 16000 Hz, stereo, s16, 512 kb/s (default)\n",
      "    Metadata:\n",
      "      handler_name    : AAC audio\n",
      "      encoder         : Lavc58.54.100 pcm_s16le\n",
      "size=   35358kB time=00:09:25.72 bitrate= 512.0kbits/s speed= 736x    \n",
      "video:0kB audio:35358kB subtitle:0kB other streams:0kB global headers:0kB muxing overhead: 0.000215%\n",
      "ffmpeg version 4.2.7-0ubuntu0.1 Copyright (c) 2000-2022 the FFmpeg developers\n",
      "  built with gcc 9 (Ubuntu 9.4.0-1ubuntu1~20.04.1)\n",
      "  configuration: --prefix=/usr --extra-version=0ubuntu0.1 --toolchain=hardened --libdir=/usr/lib/x86_64-linux-gnu --incdir=/usr/include/x86_64-linux-gnu --arch=amd64 --enable-gpl --disable-stripping --enable-avresample --disable-filter=resample --enable-avisynth --enable-gnutls --enable-ladspa --enable-libaom --enable-libass --enable-libbluray --enable-libbs2b --enable-libcaca --enable-libcdio --enable-libcodec2 --enable-libflite --enable-libfontconfig --enable-libfreetype --enable-libfribidi --enable-libgme --enable-libgsm --enable-libjack --enable-libmp3lame --enable-libmysofa --enable-libopenjpeg --enable-libopenmpt --enable-libopus --enable-libpulse --enable-librsvg --enable-librubberband --enable-libshine --enable-libsnappy --enable-libsoxr --enable-libspeex --enable-libssh --enable-libtheora --enable-libtwolame --enable-libvidstab --enable-libvorbis --enable-libvpx --enable-libwavpack --enable-libwebp --enable-libx265 --enable-libxml2 --enable-libxvid --enable-libzmq --enable-libzvbi --enable-lv2 --enable-omx --enable-openal --enable-opencl --enable-opengl --enable-sdl2 --enable-libdc1394 --enable-libdrm --enable-libiec61883 --enable-nvenc --enable-chromaprint --enable-frei0r --enable-libx264 --enable-shared\n",
      "  libavutil      56. 31.100 / 56. 31.100\n",
      "  libavcodec     58. 54.100 / 58. 54.100\n",
      "  libavformat    58. 29.100 / 58. 29.100\n",
      "  libavdevice    58.  8.100 / 58.  8.100\n",
      "  libavfilter     7. 57.100 /  7. 57.100\n",
      "  libavresample   4.  0.  0 /  4.  0.  0\n",
      "  libswscale      5.  5.100 /  5.  5.100\n",
      "  libswresample   3.  5.100 /  3.  5.100\n",
      "  libpostproc    55.  5.100 / 55.  5.100\n",
      "Input #0, mov,mp4,m4a,3gp,3g2,mj2, from '/notebooks/conversation_data/PID1101_ZR/1101_ZR_1_Coop_Video_right.mp4':\n",
      "  Metadata:\n",
      "    major_brand     : isom\n",
      "    minor_version   : 512\n",
      "    compatible_brands: isomiso2avc1mp41\n",
      "    encoder         : Lavf58.45.100\n",
      "  Duration: 00:09:25.76, start: 0.000000, bitrate: 227 kb/s\n",
      "    Stream #0:0(und): Video: h264 (High) (avc1 / 0x31637661), yuv420p, 640x720, 150 kb/s, 20 fps, 20 tbr, 10240 tbn, 40 tbc (default)\n",
      "    Metadata:\n",
      "      handler_name    : H.264/AVC video\n",
      "    Stream #0:1(und): Audio: aac (LC) (mp4a / 0x6134706D), 32000 Hz, mono, fltp, 71 kb/s (default)\n",
      "    Metadata:\n",
      "      handler_name    : AAC audio\n",
      "File '/notebooks/conversation_audios/1101_ZR_1_Coop_Video_right.wav' already exists. Overwrite ? [y/N] Stream mapping:\n",
      "  Stream #0:1 -> #0:0 (aac (native) -> pcm_s16le (native))\n",
      "Press [q] to stop, [?] for help\n",
      "Output #0, wav, to '/notebooks/conversation_audios/1101_ZR_1_Coop_Video_right.wav':\n",
      "  Metadata:\n",
      "    major_brand     : isom\n",
      "    minor_version   : 512\n",
      "    compatible_brands: isomiso2avc1mp41\n",
      "    ISFT            : Lavf58.29.100\n",
      "    Stream #0:0(und): Audio: pcm_s16le ([1][0][0][0] / 0x0001), 16000 Hz, stereo, s16, 512 kb/s (default)\n",
      "    Metadata:\n",
      "      handler_name    : AAC audio\n",
      "      encoder         : Lavc58.54.100 pcm_s16le\n",
      "size=   35358kB time=00:09:25.72 bitrate= 512.0kbits/s speed= 782x    \n",
      "video:0kB audio:35358kB subtitle:0kB other streams:0kB global headers:0kB muxing overhead: 0.000215%\n"
     ]
    }
   ],
   "source": [
    "input_videos = sorted([x for x in os.listdir(INPUT_VIDEOS) if not x.startswith(\".\")])\n",
    "input_videos = [i.split('.')[0] for i in input_videos] \n",
    "\n",
    "for file in input_videos:\n",
    "    !echo y | ffmpeg -i \"$INPUT_VIDEOS\"/\"$file\".mp4 -acodec pcm_s16le -ar 16000 -ac 2 \"$OUTPUT_AUDIOS\"/\"$file\".wav"
   ]
  },
  {
   "cell_type": "markdown",
   "id": "a827c0ad-2ffa-4ad5-a290-bb1f3212d8c6",
   "metadata": {},
   "source": [
    "## Step 2: Install Whisper\n",
    "\n",
    "**Note** You may need to run `!pip install numpy==1.23.4` to resolve software version mismatch"
   ]
  },
  {
   "cell_type": "code",
   "execution_count": 4,
   "id": "713da25b-6ff4-42f7-8c04-ce67f6f4c2e0",
   "metadata": {
    "execution": {
     "iopub.execute_input": "2023-07-19T16:35:15.848959Z",
     "iopub.status.busy": "2023-07-19T16:35:15.848637Z",
     "iopub.status.idle": "2023-07-19T16:35:32.614306Z",
     "shell.execute_reply": "2023-07-19T16:35:32.613356Z",
     "shell.execute_reply.started": "2023-07-19T16:35:15.848926Z"
    }
   },
   "outputs": [
    {
     "name": "stdout",
     "output_type": "stream",
     "text": [
      "Collecting git+https://github.com/openai/whisper.git\n",
      "  Cloning https://github.com/openai/whisper.git to /tmp/pip-req-build-ccig7ded\n",
      "  Running command git clone --filter=blob:none --quiet https://github.com/openai/whisper.git /tmp/pip-req-build-ccig7ded\n",
      "  Resolved https://github.com/openai/whisper.git to commit b91c907694f96a3fb9da03d4bbdc83fbcd3a40a4\n",
      "  Installing build dependencies ... \u001b[?25ldone\n",
      "\u001b[?25h  Getting requirements to build wheel ... \u001b[?25ldone\n",
      "\u001b[?25h  Preparing metadata (pyproject.toml) ... \u001b[?25ldone\n",
      "\u001b[?25hRequirement already satisfied: triton==2.0.0 in /usr/local/lib/python3.9/dist-packages (from openai-whisper==20230314) (2.0.0)\n",
      "Requirement already satisfied: tiktoken==0.3.3 in /usr/local/lib/python3.9/dist-packages (from openai-whisper==20230314) (0.3.3)\n",
      "Requirement already satisfied: more-itertools in /usr/local/lib/python3.9/dist-packages (from openai-whisper==20230314) (9.1.0)\n",
      "Requirement already satisfied: numpy in /usr/local/lib/python3.9/dist-packages (from openai-whisper==20230314) (1.23.4)\n",
      "Requirement already satisfied: tqdm in /usr/local/lib/python3.9/dist-packages (from openai-whisper==20230314) (4.64.1)\n",
      "Requirement already satisfied: torch in /usr/local/lib/python3.9/dist-packages (from openai-whisper==20230314) (1.12.1+cu116)\n",
      "Requirement already satisfied: numba in /usr/local/lib/python3.9/dist-packages (from openai-whisper==20230314) (0.57.1)\n",
      "Requirement already satisfied: regex>=2022.1.18 in /usr/local/lib/python3.9/dist-packages (from tiktoken==0.3.3->openai-whisper==20230314) (2022.10.31)\n",
      "Requirement already satisfied: requests>=2.26.0 in /usr/local/lib/python3.9/dist-packages (from tiktoken==0.3.3->openai-whisper==20230314) (2.28.2)\n",
      "Requirement already satisfied: cmake in /usr/local/lib/python3.9/dist-packages (from triton==2.0.0->openai-whisper==20230314) (3.26.4)\n",
      "Requirement already satisfied: lit in /usr/local/lib/python3.9/dist-packages (from triton==2.0.0->openai-whisper==20230314) (16.0.6)\n",
      "Requirement already satisfied: filelock in /usr/local/lib/python3.9/dist-packages (from triton==2.0.0->openai-whisper==20230314) (3.9.0)\n",
      "Requirement already satisfied: llvmlite<0.41,>=0.40.0dev0 in /usr/local/lib/python3.9/dist-packages (from numba->openai-whisper==20230314) (0.40.1)\n",
      "Requirement already satisfied: typing-extensions in /usr/local/lib/python3.9/dist-packages (from torch->openai-whisper==20230314) (4.4.0)\n",
      "Requirement already satisfied: certifi>=2017.4.17 in /usr/lib/python3/dist-packages (from requests>=2.26.0->tiktoken==0.3.3->openai-whisper==20230314) (2019.11.28)\n",
      "Requirement already satisfied: charset-normalizer<4,>=2 in /usr/local/lib/python3.9/dist-packages (from requests>=2.26.0->tiktoken==0.3.3->openai-whisper==20230314) (2.1.1)\n",
      "Requirement already satisfied: urllib3<1.27,>=1.21.1 in /usr/local/lib/python3.9/dist-packages (from requests>=2.26.0->tiktoken==0.3.3->openai-whisper==20230314) (1.26.14)\n",
      "Requirement already satisfied: idna<4,>=2.5 in /usr/lib/python3/dist-packages (from requests>=2.26.0->tiktoken==0.3.3->openai-whisper==20230314) (2.8)\n",
      "\u001b[33mWARNING: Running pip as the 'root' user can result in broken permissions and conflicting behaviour with the system package manager. It is recommended to use a virtual environment instead: https://pip.pypa.io/warnings/venv\u001b[0m\u001b[33m\n",
      "\u001b[0m"
     ]
    }
   ],
   "source": [
    "#installing whisper from its github repository\n",
    "!pip install git+https://github.com/openai/whisper.git "
   ]
  },
  {
   "cell_type": "markdown",
   "id": "fdefcae1-b01f-486e-9a7e-399b9d182c21",
   "metadata": {},
   "source": [
    "### Import additional libraries\n",
    "\n",
    "Whisper supports many different langauge including English which can be found [here](https://github.com/openai/whisper)"
   ]
  },
  {
   "cell_type": "code",
   "execution_count": 13,
   "id": "f64e2662-e05d-44e0-84ad-9dba2cc0e96b",
   "metadata": {
    "execution": {
     "iopub.execute_input": "2023-07-19T16:47:34.724428Z",
     "iopub.status.busy": "2023-07-19T16:47:34.723286Z",
     "iopub.status.idle": "2023-07-19T16:47:36.689459Z",
     "shell.execute_reply": "2023-07-19T16:47:36.685529Z",
     "shell.execute_reply.started": "2023-07-19T16:47:34.724386Z"
    }
   },
   "outputs": [
    {
     "name": "stdout",
     "output_type": "stream",
     "text": [
      "Model is English-only and has 71,825,408 parameters.\n"
     ]
    }
   ],
   "source": [
    "#import libraries\n",
    "\n",
    "import torch\n",
    "import whisper\n",
    "\n",
    "# define parameters for whisper\n",
    "\n",
    "#this ensures gpu-based parallel processing if available, if not uses cpu\n",
    "torch.cuda.is_available()\n",
    "DEVICE = \"cuda\" if torch.cuda.is_available() else \"cpu\"\n",
    "\n",
    "#this chooses the model language to english\n",
    "model = whisper.load_model(\"base.en\", device=DEVICE)\n",
    "print(\n",
    "    f\"Model is {'multilingual' if model.is_multilingual else 'English-only'} \"\n",
    "    f\"and has {sum(np.prod(p.shape) for p in model.parameters()):,} parameters.\")"
   ]
  },
  {
   "cell_type": "markdown",
   "id": "6a74123e-4287-4200-8c0e-f0659eb66311",
   "metadata": {},
   "source": [
    "## Step 3: Run Whisper on .wav file to get transcription"
   ]
  },
  {
   "cell_type": "code",
   "execution_count": 21,
   "id": "e4be7e48-8996-4d22-99b8-f9bee518fdf4",
   "metadata": {
    "execution": {
     "iopub.execute_input": "2023-07-19T16:55:51.648695Z",
     "iopub.status.busy": "2023-07-19T16:55:51.648277Z",
     "iopub.status.idle": "2023-07-19T16:59:19.986480Z",
     "shell.execute_reply": "2023-07-19T16:59:19.985107Z",
     "shell.execute_reply.started": "2023-07-19T16:55:51.648635Z"
    }
   },
   "outputs": [
    {
     "name": "stdout",
     "output_type": "stream",
     "text": [
      "Transcription for  1101_ZR_1_Aff_Video_left.wav\n",
      "=========================\n",
      " So, like, what's your favorite book or like movie? Um, so I don't, I haven't read an actual story or like a book book in a while. Um, but recently I've read like the alchemist. I don't know if you've heard of it. Yeah. Yeah. Uh, what do you think of it? I haven't finished it yet. I'm still like in the middle of, but. I mean, I think I read it a few years ago. So, like, I don't remember every detail, but I remember that like it was philosophical. And like, I, I'm like found some coast that like resonated. Um, I remember that I took some notes from that book, like from a, like, from a not from my personal book. I mean, um, so like life lessons kind of thing. Okay. That's cool. That's dope. Um, yeah. Um, it seems very philosophical. I mean, I've, I got it from old high school teacher. And he said that in the mail. So it was very nice to see that. Um, but yeah, I'm not. Don't really read as many books. I do watch a lot of movies and TV shows. Um, what movies are you into? Um, like my, my favorite movie is Harry Potter. Like I really like Harry Potter. And I read the read the books when I was a child, but like, you know, watching the movies and I like when I got bored or just like, when I felt like I want to watch it again. Um, so like, it's my favorite from also I didn't like a lot of the musical. Um, the what? Do you know that's? I'm not too sure. I know that I know definitely know how you feel about Harry Potter. Sure. Um, because similar to me, I like also read the books that Harry Potter like third, fourth grade and then I'm watching the movies, getting a Lego set for them for my birthday. Like, um, it was, I enjoy Harry Potter a lot. And it's always like, um, like you said, it's like the field and movie. If you want to watch it in your free time or something, you just put it on and start watching it. Um, yeah, I guess like similar Harry Potter, like there's those big blockbuster cash money movies like. Um, the Marvels Avengers and then Star Wars and then a bunch of Disney movies like. Um, I know I always watched Reddit, to me. Or over the hedge robots. A monster zinc, like, incredible. All these kind of good movies that. It's good entertainment all the time. Also, I like shake and I say. Mm hmm. Shrek and I say you're really good ones too. Um, it's weird saying that when you're older too. It's like you see a lot of jokes that you didn't realize were in them, especially Shrek. Yes. Wow. Thanks. I don't like social jokes as well. So like, and like when I watched the child, I can catch them. And I watched it again. Here I go. Like, I was like, Oh, okay. Yeah. Wow. It's not as innocent as I thought. I mean, I feel the same way with, um, music. Because when music is like, like, I don't know growing up, I listen to a lot of people. And I was like, wow, that's what it's actually about. I thought he was just wanting to have a good time, but. Right, Lee Hotel room is different. So, you know, it's like. Different meetings start to realize it, but still entertaining, just as it was. Yeah. Yeah. Do you watch a lot of TV shows along with movies? Um, I watched how I met her mother. Why, like, um, Bridget and the Queen Scambits. Okay. Yeah. What about you? I feel like my TV shows are very on the opposite side where I watched like the boys. I don't know if you've heard of it, the Amazon. It's very, like graphic superhero bag, I kind of thing. thing. So I wouldn't recommend it if you don't like too much of just everything over stimulation. But it's fun. What else do I like? I watch a lot of like Japanese shows like anime and stuff too. And just like a bunch of international TV shows too because different, it's fun to see like different cultures and what they have, what's their mainstream media. So that's interesting to me too. I think I haven't watched anime before. I usually watch what I find on Netflix and like I don't like try to find any other source much like you do with international TV shows. I think it's I mean, obviously growing up it's like you're looking at one area in Netflix but then you start to branch out and you see like differences of what cultures find as normal entertainment versus like what on the Western civilization you find there's normal entertainment. So it's very cool to see. I know a lot of hype has been around like I don't know if you heard attack on Titan. But it's like another anime that's like massive right now. So it's very I would recommend that one. But that's also very can be very graphic too. So I don't know. Yeah, I feel like my my sense of media is really one side like like the races and the TV shows and like the storyline. Like since I'm just like using one broadcast like I'm watching from Netflix most of the time. Like there are there's a lot of similarities among them. So like I do you do find it as a like do you want to like branch out or is it just you're fine with what it is or actually I would like to like reach out but like during the school time it's hard to do that. It's just easier to open Netflix and like it's my comfort zone. Like yeah, just like I'm just I don't know it's easier to do that other than just trying to find other any other shows because I always have hard time finding it like for example if I wanted to watch a movie I sometimes spend a couple of minutes or sometimes half an hour to just like try to find the movie that I'm on the watch. So instead of that like I open them and continue to show the time already I've been watching it's easier. Yeah, I definitely feel that we start looking for a movie at 6 30 we don't find a movie to 10 30 like it's always that case. Like you just want to switch what's worth our time and in the end there's only no movie that playing. But yeah, I definitely agree. A lot of times it's very hard to watch something during like school and when stuff kicks out. So I guess like another term of entertainment would be like music. You know it's not on music because that's like something you can do while you're doing schoolwork. Actually like I can't listen to music while I'm studying it just this fact but like I like listening to music for example while I'm trying my hair or like or like while I'm cleaning my room. Like and I think I mostly listen to pop music. I also like listening to Beyonce, Shakira, like some songs. Yeah, I realize that like when I listen to some songs I feel also a little bit down. So like when I want to listen to music I just try to hype myself up by like it's a more energetic songs. What about you? I kind of listen to like everything all over. I'm doing homework. I listen to more like R&B, like chill when I'm with like people outside. I'll listen to like pop pop music rep and then you got your dance like Latina, Latin hop and then like Afro beat sometimes. And then like this weekend we went to the Diwali celebration and we listened to Indian music and Hollywood music. So it's kind of all over the place. So I guess it's just very dependent on what I'm doing and what my mood is. Yeah. But I guess I feel it sentiment when you said like you can't figure out music to like listen to when you're studying. That's a very hard thing to figure out. But yeah, I think for me it's just like the chill more relaxed music is what I can listen to as in background noise while I'm doing the work. Actually like it's easier to focus on my work when I and listen to the music at the same time while I'm doing math or like something stem related. But like for example, if I'm writing a paper that's almost impossible for me to just like focus on the paper and listen to the music at the same time. That's a good topic as well. Yeah, that's fair because I think with the lyrics involved while you're writing it's like over simulation but math is numbers and x plus y plus z you know so you can listen music into that.\n",
      "Transcription for  1101_ZR_1_Aff_Video_right.wav\n",
      "=========================\n",
      " So, like, what's your favorite book or like movie? Um, so I don't, I haven't read an actual story or like a book book in a while. Um, but recently I've read like the alchemist. I don't know if you've heard of it. Yeah. Yeah. Uh, what do you think of it? I haven't finished it yet. I'm still like in the middle of, but. I mean, I think I read it a few years ago. So, like, I don't remember every detail, but I remember that like it was philosophical. And like, I, I'm like found some coast that like resonated. Um, I remember that I took some notes from that book, like from a, like, from a not from my personal book. I mean, um, so like life lessons kind of thing. Okay. That's cool. That's dope. Um, yeah. Um, it seems very philosophical. I mean, I've, I got it from old high school teacher. And he said that in the mail. So it was very nice to see that. Um, but yeah, I'm not. Don't really read as many books. I do watch a lot of movies and TV shows. Um, what movies are you into? Um, like my, my favorite movie is Harry Potter. Like I really like Harry Potter. And I read the read the books when I was a child, but like, you know, watching the movies and I like when I got bored or just like, when I felt like I want to watch it again. Um, so like, it's my favorite from also I didn't like a lot of the musical. Um, the what? Do you know that's? I'm not too sure. I know that I know definitely know how you feel about Harry Potter. Sure. Um, because similar to me, I like also read the books that Harry Potter like third, fourth grade and then I'm watching the movies, getting a Lego set for them for my birthday. Like, um, it was, I enjoy Harry Potter a lot. And it's always like, um, like you said, it's like the field and movie. If you want to watch it in your free time or something, you just put it on and start watching it. Um, yeah, I guess like similar Harry Potter, like there's those big blockbuster cash money movies like. Um, the Marvels Avengers and then Star Wars and then a bunch of Disney movies like. Um, I know I always watched Reddit, to me. Or over the hedge robots. A monster zinc, like, incredible. All these kind of good movies that. It's good entertainment all the time. Also, I like shake and I say. Mm hmm. Shrek and I say you're really good ones too. Um, it's weird saying that when you're older too. It's like you see a lot of jokes that you didn't realize were in them, especially Shrek. Yes. Wow. Thanks. I don't like social jokes as well. So like, and like when I watched the child, I can catch them. And I watched it again. Here I go. Like, I was like, Oh, okay. Yeah. Wow. It's not as innocent as I thought. I mean, I feel the same way with, um, music. Because when music is like, like, I don't know growing up, I listen to a lot of people. And he was always on the radio. And I was like, wow, that's what it's actually about. I thought he was just wanting to have a good time, but. Right. The hotel room is different. So, you know, it's like. Different meetings start to realize it, but. It's still entertaining, just as it was. Yeah. Yeah. Do you watch a lot of TV shows along with movies? Um, I watched a, how I met her mother. I like, you know, like, I know she was like, I was like, She's like, she's like, I'm like, I'm just like, you know, I'm just like, She's like, I'm just like, I'm just like, why is it really? Um, Regiton, the Queen Scambits. Okay. Yeah. What about you? Uh, I feel like my TV shows are very on the opposite side. Where I watched like the boys. I don't know if you've heard of it. The Amazon. It's very like graphic. Superhero. just everything over stimulation. But it's fun. What else do I like? I watch a lot of Japanese shows like anime and stuff too. And just like a bunch of international TV shows too. Because it's fun to see different cultures and what's their mainstream media. So that's interesting to me too. I think I haven't watched anime before. I usually watch what I find on Netflix. And I just think I don't try to find any other source much. Like you do with international TV shows. I mean, obviously growing up, it's like you're looking at one area in Netflix. But then you start to branch out and you see like differences of what cultures find as normal entertainment versus like what? On the Western civilization, you find there's normal entertainment. So it's very cool to see. I know a lot of hype has been around. I don't know if you heard attack on Titan. But it's like another anime that's like massive right now. So I would recommend that one. But that's also very, can be very graphic too. So I don't know. Yeah, I feel like my sense of media is really one side. Like the races and the TV shows and like the storyline. Like since I'm just like using one broadcast, like I'm just watching from Netflix most of the time. Like there's a lot of similarities among them. So like I do find it as a like do you want to like branch out or is it just you're fine with what it is or? Actually, I would like to like reach out. But like during the school time, it's hard to do that. It's just easier to open Netflix and like it's my comfort zone. Like yeah, just like I'm just I don't know. It's easier to do that other than just trying to find other any other shows because I always have hard time finding it. Like for example, if I wanted to watch a movie, I sometimes spend a couple of minutes or sometimes half an hour to just like try to find the movie that I'm on the watch. So instead of that, like I open and continue to show the time already. I've been watching it's easier. Yeah, I definitely feel that we start looking for a movie at 6.30. We don't find a movie till 10.30. Like it's always that case. Yes. Like you just want to switch, what's worth our time? And the end is only no movie that playing. But yeah, I definitely agree. A lot of times it's very hard to watch something during like school. And when stuff kicks out. So I guess like another term of entertainment would be like music. You know, it's not on music because that's like something you can do while you're doing schoolwork. Actually, like I can't listen to music while I'm studying. It just distracts. But like I like listening to music. For example, while I'm trying my hair or like while I'm cleaning my room. Like and I think I mostly listen to pop music. I also like listening to Beyonce, Keira, like some songs. Yeah. Because I realize that like when I listen to some songs, I feel also a little bit down. So like when I want to listen to music, I just try to hype myself up by like it's a more like energetic songs. What about you? I kind of listen to like everything all over. I'm doing homework. I listen to more like R&B like chill. When I'm with like people outside, I'll listen to like pop music rep. And then you got your dance like Latina, Latin hop. And then like Afro beat sometimes. And so and then like this weekend, we went to the Diwali celebration and we listened to Indian music there like Bollywood music. So it's kind of all over the place. So I guess it's just very dependent on what I'm doing and what my mood is. Yeah. But I guess I feel like sentiment when you said like you can't figure out music to like listen to when you're studying. That's a very hard thing to figure out. But yeah, I think for me, it's just like the chill more relaxed music is what I can listen to as in background noise while I'm doing the work. Actually like like it's easier to focus on my work when I and listen to the music at the same time. Well, I'm doing math or like something stem related. But like for example, if I'm writing a paper that's almost impossible for me to just like focus on the paper and listening and listen to the music at the same time. That's a good topic as well. Yeah, that's fair because I think with the lyrics involved while you're writing, it's like over simulation, but math is numbers and x plus y plus z, you know, so you can listen to music and do that. Oh,\n",
      "Transcription for  1101_ZR_1_Arg_Video_left.wav\n",
      "=========================\n",
      " What do you think? So 21, I think it should stay on 21 considering the dumb amount of damage alcohol has on many people and also the brain development stages. So like the brain starts to, at least I think it's in women, it develops from some age, like 15 or something to 18 and then for guys it fully develops after 20 or 21. And so I think it's important for the development process to occur to a certain extent before people are legally allowed to drink. And I say that, but people are obviously drinking under age too so that's not like, necessarily stops but it definitely implies that there's a certain amount of time that you have to give for your brain to fully develop before you should start drinking. And so that's why I think 21 is an ideal age for people to start. And I also think that at 21 you're like, oh, I'm an adult, like you feel more an adult you have more responsibility. Most people are out of their moms and dads basement. So it's like, you have to be more assertive your decisions, especially when it comes to drinking so I think the opposite, like I think it should like, it should be 18 because people like, especially at colleges like their students have, you know, like drink all the time, especially at the weekends. So, but since they are not used to drinking. They just like some of them just start drinking when they get to college. So they sometimes get crazy about it, like, and just like because it's something that is new to them. So I think it's better just lower down the age and I think like, if it's legal maybe since if that's some, something is forbidden. And sometimes want to do it more. So also like I'm from Turkey, and in Turkey, the legal age of like drinking is 18. And I think, I don't know. Talk about biological aspect of it much. So you are right about the development mental process. It seems like people just don't, people are not aware of that already so I don't know how that would affect their decision of like drinking or not because like people are obviously, also aware of it. And most of them. So like, probably even like they know about it's probably they will continue drinking it, especially at especially college kids. Yeah, I do agree. I think regardless of whether you change it to 18 or 21. You're so gonna get the same group of people drinking. It's like not gonna change from it to change like, and I do agree with the sentiment where it's like when it's forbidden. People aspire to it, whether it's like breaking a lot like running a red light. Well, you do rental red light crazy. Being that kind of bad boy or breaking the rules kind of thing. And I was gonna ask like because Turkey obviously has like 18 and much of Europe really has like 16 or something that. And so there's a very loose. I guess law or retaliation against under a drinking in Europe and many other countries. I'm asking like if you drink under 18 or. I can. Oh, you can hear. Okay. I would say because in Europe, like a lot of people do drink under 18 right it's like 16 is usually where people start to get into like bars and clubs and people don't really stress the law as much. But I guess in America or something you would see like everyone's very strict on the 21 limit. I guess you're right in the sense that if you grow up with it or like start drinking at early age, it will. Like help you grow accustomed to it so you won't go overboard. But then there's also the cases where people start drinking heavy at 18 and then in 18 is a pretty, pretty like important age, especially coming into college and making a lot of bad decisions in high school. And so I think that's a good question to college can definitely like, call it your career or like hurt you developmentally and like as an independent student early on so that would just like. Negative, negatively affect you. I think most importantly, regardless of 18 to 21 it just you have a good influence where it comes to drinking the goods surrounding people friends. Like where you want how to pace and take your time. But yeah, I guess you have a different view on it because you are from a place where 18 is the limit so. Actually, you are right but for example in Turkey, it's actually like for example if you're under 18 you can't go into a club or a bar. Last varieties, or you can't buy drinks like maybe like if you're 17 or so and like if you look older people might might not ask for an idea but most of the time they ask it. So, but actually like after 18 since you can like going to a club easily. I agree that it's a little bit early to like expose yourself into that lifestyle. Like 18 is a, I mean, it is a young age. So it's better to maybe like, drink in your room or like with your, with a couple of couple of friends that you already know other than just like go to a club and drink with people you don't know. So yeah. So Turkey's has a lot of like Muslim population right so that definitely affects the drinking situation versus like other European countries, or 16 or 15 or something but Turkey and many other countries around are like, heavily mostly Muslim populated so that definitely probably affects it right. Actually like it depends. For example in Istanbul. Yes, there are like many Muslim people because like it's Turkey, Turkey's a Muslim country I mean, but especially in Istanbul like there are many people who are like really into going to nightclubs. And like there are also many non Muslim Muslim people living in especially in Istanbul because it's a very crowded and common put in city. So, yeah, maybe like some cities that affect its effects the condition but like most of the bars and nightclubs are also in big cities. So, and in big cities like there are also non Muslim people are like Muslim but not really religious people who are Muslim but who also like drinks. Yeah. So it's not like, I think it's, it's not a big factor. I mean, okay. Okay, I mean, I'm just curious, but. Yeah. Yeah. I think regardless of when it changes I think the same group of people will still like, like if you implement a rule now I don't think that the people who are doing ahead of time are going to change their mind or anything. So yeah, I think the same people would drink. I'll have the same sort of feel and sentiment on the college life and people in America. Yeah. That's all I have to say I guess I have opinions out but I guess there's interesting going in here, differing opinions. Yes. Are you from the US by the way. Yeah, so I'm from the US my parents are from India. So this is definitely a culturally different situation there too. So that's why I was wondering how it is in Turkey as well. So what's the like the age of drinking in India. I think it's 21. Oh, I'm sure but I know there's not a big heavy drinking culture. Obviously India has like, I think India has like the number one or number two and the most amount of Muslim population in the world. But again there's also been a lot of Hindus and culture is like, not as much drinking heavy too. So, yeah. Very different from the Western society.\n",
      "Transcription for  1101_ZR_1_Arg_Video_right.wav\n",
      "=========================\n",
      " What do you think? So 21, I think it should stay on 21 considering the dumb amount of damage alcohol has on many people and also the brain development stages. So like the brain starts to, at least I think it's in women, it develops from some age, like 15 or something to 18 and then for guys it fully develops after 20 or 21. And so I think it's important for the development process to occur to a certain extent before people are legally allowed to drink. And I say that, but people are obviously drinking under age too so that's not like, necessarily stops but it definitely implies that there's a certain amount of time that you have to give for your brain to fully develop before you should start drinking. And so that's why I think 21 is an ideal age for people to start. And I also think that at 21 you're like, oh, I'm an adult, like you feel more an adult you have more responsibility. Most people are out of their moms and dads basement. So it's like, you have to be more assertive your decisions, especially when it comes to drinking so I think the opposite, like I think it should like, it should be 18 because people like, especially at colleges like their students have, you know, like drink all the time, especially at the weekends. So, but since they are not used to drinking. They just like some of them just start drinking when they get to college. So they sometimes get crazy about it, like, and just like because it's something that is new to them. So I think it's better just lower down the age and I think like, if it's legal maybe since if that's some, something is forbidden. And sometimes want to do it more. So also like I'm from Turkey, and in Turkey, the legal age of like drinking is 18. And I think, I don't know. Talk about biological aspect of it much. So you are right about the development mental process. It seems like people just don't, people are not aware of that already so I don't know how that would affect their decision of like drinking or not because like people are obviously, also aware of it. And most of them. So like, probably even like they know about it's probably they will continue drinking it, especially at especially college kids. Yeah, I do agree. I think regardless of whether you change it to 18 or 21. You're so gonna get the same group of people drinking. It's like not gonna change from it to change like, and I do agree with the sentiment where it's like when it's forbidden. People aspire to it, whether it's like breaking a lot like running a red light. Well, you do rental red light crazy. Being that kind of bad boy or breaking the rules kind of thing. And I was gonna ask like because Turkey obviously has like 18 and much of Europe really has like 16 or something that. And so there's a very loose. I guess law or retaliation against under a drinking in Europe and many other countries. I'm asking like if you drink under 18 or. I can. Oh, you can hear. Okay. I would say because in Europe, like a lot of people do drink under 18 right it's like 16 is usually where people start to get into like bars and clubs and people don't really stress the law as much. But I guess in America or something you would see like everyone's very strict on the 21 limit. I guess you're right in the sense that if you grow up with it or like start drinking at early age, it will. Like help you grow accustomed to it so you won't go overboard. But then there's also the cases where people start drinking heavy at 18 and then in 18 is a pretty, pretty like important age, especially coming into college and making a lot of bad decisions in high school. And so I think that's a good question to college can definitely like, call it your career or like hurt you developmentally and like as an independent student early on so that would just like. Negative, negatively affect you. I think most importantly, regardless of 18 to 21 it just you have a good influence where it comes to drinking the goods surrounding people friends. Like where you want how to pace and take your time. But yeah, I guess you have a different view on it because you are from a place where 18 is the limit so. Actually, you are right but for example in Turkey, it's actually like for example if you're under 18 you can't go into a club or a bar. Last varieties, or you can't buy drinks like maybe like if you're 17 or so and like if you look older people might might not ask for an idea but most of the time they ask it. So, but actually like after 18 since you can like going to a club easily. I agree that it's a little bit early to like expose yourself into that lifestyle. Like 18 is a, I mean, it is a young age. So it's better to maybe like, drink in your room or like with your, with a couple of couple of friends that you already know other than just like go to a club and drink with people you don't know. So yeah. So Turkey's has a lot of like Muslim population right so that definitely affects the drinking situation versus like other European countries, or 16 or 15 or something but Turkey and many other countries around are like, heavily mostly Muslim populated so that definitely probably affects it right. Actually like it depends. For example in Istanbul. Yes, there are like many Muslim people because like it's Turkey, Turkey's a Muslim country I mean, but especially in Istanbul like there are many people who are like really into going to nightclubs. And like there are also many non Muslim Muslim people living in especially in Istanbul because it's a very crowded and common put in city. So, yeah, maybe like some cities that affect its effects the condition but like most of the bars and nightclubs are also in big cities. So, and in big cities like there are also non Muslim people are like Muslim but not really religious people who are Muslim but who also like drinks. Yeah. So it's not like, I think it's, it's not a big factor. I mean, okay. Okay, I mean, I'm just curious, but. Yeah. Yeah. I think regardless of when it changes I think the same group of people will still like, like if you implement a rule now I don't think that the people who are doing ahead of time are going to change their mind or anything. So yeah, I think the same people would drink. I'll have the same sort of feel and sentiment on the college life and people in America. Yeah. That's all I have to say I guess I have opinions out but I guess there's interesting going in here, differing opinions. Yes. Are you from the US by the way. Yeah, so I'm from the US my parents are from India. So this is definitely a culturally different situation there too. So that's why I was wondering how it is in Turkey as well. So what's the like the age of drinking in India. I think it's 21. Oh, I'm sure but I know there's not a big heavy drinking culture. Obviously India has like, I think India has like the number one or number two and the most amount of Muslim population in the world. But again there's also been a lot of Hindus and culture is like, not as much drinking heavy too. So, yeah. Very different from the Western society.\n",
      "Transcription for  1101_ZR_1_Coop_Video_left.wav\n",
      "=========================\n",
      " So, yes, three items that you would want to bring on an island. I'm assuming there can be any items or like a phone. Probably or something like that. Sorry. Sorry. Just to clarify, it's not three items. It's as many items you can fit in a shoe box. As many as you can fit in a shoe box. Okay. So a phone. Yes, it's small, too. So like we can definitely fit into the. Like multi purpose like it has a flashlight or also flashlight would be helpful to. Probably like a knife. Like to charge the phone. You need something at some point. Like affordable or one of those solar powered. Battery. Things. I'm assuming they'll have like a lot of food on the island. Like natural food. A lot. I mean, the phone, depending on where the island is, you might get serviced or night not. So. Walk you talky. Like a radio or something. Like a small handheld radio. Like a flare gun, maybe. Yes. Yeah. Also like something to be maybe a knife or like. Yeah, like a pocket knife or something. Uh huh. Like there's a watch on the phone usually. So I don't think anything like that. I'm trying to think to all like the movies I've seen of islands. Because probably. Some sort of. First aid kit. Yeah. Like bandages. Alcoholic wipes disinfectant and all that kind of stuff. Um. Um. What do you think about clothing? Would you. Like, you know, the ones you can just like. You can just. A small raincoat. Like just. Something like travel. You can just pack them in. Yeah. Or like. Like active wear. Dry suits. Um, like probably some. Shoes that are actually like. Usable, like not. I don't know. Like fancy issues, but like, you know, like. Maybe some crock or something. But like we might not be able to fit them into the. That's true. So. Um. Would you wear like the individual toe shoes. Yeah. Yeah. Yeah. Yeah. Maybe like purse sunglasses. That's just like a accessory that it's not really needed. No. Yeah. Like we don't know the eye. The conditions of the item. So like. It is true. I think I like putting accessories as a little bit. Actually. Mm-hmm. Um, I think. Yeah. Yeah. Maybe like purse sunglasses. Yeah. Yeah. That's true. That's a good point. We don't know the condition. So like a jacket or raincoat. Um, shorts and pants. Um, I guess sleeping bag. I guess sleeping bags. Not going to fit. But like a blanket sort of thing. Like one of those. Like small blankets that can like expand. Uh, Like a flint, maybe a flint to start a fire. Yeah. Also like maybe a water bottle. Um, like the other ones. Uh, but like they're flat and then I knew like feel some water to them. Like they just expand. There's the plastic bag ones. Okay. Okay. Yeah. Um, Do some of those in like maybe like the one that has a purifying technique. You know, Purifying straws or whatever. Um, Maybe like some. Energy bars or energy like. Because depending on where you how long it be stranded. Also medicine. We talked about first the first eight kids, but like some painkillers or like some. Yeah. Painkillers. Um, Maybe fishing line. Because assuming it's an island, they'll have like some sort of. Fish. And so you use a fishing line fishing hook. Not too big items. Like it's very small. So you can fit them. And. Um, Yeah. So you can fit. So you can fit them. And I'm. Um, I'm just trying to island. Well, so can you fit. So I'm assuming the goal is to get off this island at some point. Yeah. Would you take anything? I know we sort of flare gun in a phone. You take anything else to like. Get off the island. I don't know. But we also like included the flesh, flesh lights. So maybe. Some signals people. Yeah. Sure. Sensing. Yeah. I don't know. But we also like included the flesh. Flashlights. So. Maybe it's. Some signals. People. Yeah. Sure. Sensing. Yeah. Sure. Sensing. Like with the flarragon flashlight. Starfire with the flint. You could use. Like string. Potentially make a raft or something. I don't know. Um, like the knife as well. Yes. To use it to like. Make a tent to like sharpen the wood. Cut up leaves. Make yourself a house. I think we have to make a house. Um, Let's go. Let's go. I feel like at this point, our shoe box is pretty full. Um, but yeah, I guess. A raft like like a house. Um, how do you think you'd entertain yourself? I mean, if you have a phone, it's easier, but like if something happens to the phone. Um, maybe a small notepad and a pencil might help. Okay. I think you can also like use it as a diary or just like keep track of the. Base. If. I think it happens to the phone. I think the diary would be nice. Just keep track of what you did. Perhaps make a movie after afterwards. Um, I think that's all I have. I mean, I think the idea of a diary, um, when you bring a book. Like a small book or is that like something you could probably find on your phone. You can download on your phone or something. Yeah. Um, but maybe like doing other travel size, um, book. What's maybe one of them. If you manage to innovate, you like. Into the box. Yeah. Um, I feel like bug spring would also be a good thing. That's some, or some screen. Those are some things. Like a small travel side or something. Yeah. Also, like something that reminds this person of their home. Like this. Maybe for emotional support. I don't know. Yeah. Like a B below. I don't know. I go watch Nicholas or something with the photo. Yeah. We're saying. Yeah. Yeah. Yeah. Yeah. Yeah. Yeah. Yeah. Yeah. Yeah. Yeah. Yeah. Yeah. Yeah. Yeah. Yeah. Yeah. Yeah. Yeah. Yeah. Yeah. Yeah. Yeah. Yeah. Yeah. Yeah. Yeah.\n",
      "Transcription for  1101_ZR_1_Coop_Video_right.wav\n",
      "=========================\n",
      " So, yes, three items that you would want to bring on an island. I'm assuming there can be any items or like a phone. Probably or something like that. Sorry. Sorry. Just to clarify, it's not three items. It's as many items you can fit in a shoe box. As many as you can fit in a shoe box. Okay. So a phone. Yes, it's small, too. So like we can definitely fit into the. Like multi purpose like it has a flashlight or also flashlight would be helpful to. Probably like a knife. Like to charge the phone. You need something at some point. Like affordable or one of those solar powered. Battery. Things. I'm assuming they'll have like a lot of food on the island. Like natural food. A lot. I mean, the phone, depending on where the island is, you might get serviced or night not. So. Walk you talky. Like a radio or something. Like a small handheld radio. Like a flare gun, maybe. Yes. Yeah. Also like something to be maybe a knife or like. Yeah, like a pocket knife or something. Uh huh. Like there's a watch on the phone usually. So I don't think anything like that. I'm trying to think to all like the movies I've seen of islands. Because probably. Some sort of. First aid kit. Yeah. Like bandages. Alcoholic wipes disinfectant and all that kind of stuff. Um. Um. What do you think about clothing? Would you. Like, you know, the ones you can just like. You can just. A small raincoat. Like just. Something like travel. You can just pack them in. Yeah. Or like. Like active wear. Dry suits. Um, like probably some. Shoes that are actually like. Usable, like not. I don't know. Like fancy issues, but like, you know, like. Maybe some crock or something. But like we might not be able to fit them into the. That's true. So. Um. Would you wear like the individual toe shoes. Yeah. Yeah. Yeah. Yeah. Maybe like purse sunglasses. That's just like a accessory that it's not really needed. No. Yeah. Like we don't know the eye. The conditions of the item. So like. It is true. I think I like putting accessories as a little bit. Actually. Mm-hmm. Um, I think. Yeah. Yeah. Maybe like purse sunglasses. Yeah. Yeah. That's true. That's a good point. We don't know the condition. So like a jacket or raincoat. Um, shorts and pants. Um, I guess sleeping bag. I guess sleeping bags. Not going to fit. But like a blanket sort of thing. Like one of those. Like small blankets that can like expand. Uh, Like a flint, maybe a flint to start a fire. Yeah. Also like maybe a water bottle. Um, like the other ones. Uh, but like they're flat and then I knew like feel some water to them. Like they just expand. There's the plastic bag ones. Okay. Okay. Yeah. Um, Do some of those in like maybe like the one that has a purifying technique. You know, Purifying straws or whatever. Um, Maybe like some. Energy bars or energy like. Because depending on where you how long it be stranded. Also medicine. We talked about first the first eight kids, but like some painkillers or like some. Yeah. Painkillers. Um, Maybe fishing line. Because assuming it's an island, they'll have like some sort of. Fish. And so you use a fishing line fishing hook. Not too big items. Like it's very small. So you can fit them. And. Um, Yeah. So you can fit. So you can fit them. And I'm. Um, I'm just trying to island. Well, so can you fit. So I'm assuming the goal is to get off this island at some point. Yeah. Would you take anything? I know we sort of flare gun in a phone. You take anything else to like. Get off the island. I don't know. But we also like included the flesh, flesh lights. So maybe. Some signals people. Yeah. Sure. Sensing. Yeah. I don't know. But we also like included the flesh. Flashlights. So. Maybe it's. Some signals. People. Yeah. Sure. Sensing. Yeah. Sure. Sensing. Like with the flarragon flashlight. Starfire with the flint. You could use. Like string. Potentially make a raft or something. I don't know. Um, like the knife as well. Yes. To use it to like. Make a tent to like sharpen the wood. Cut up leaves. Make yourself a house. Okay. Okay. Okay. Let's go. Let's go. Let's go. I feel like at this point, our shoe box is pretty full. Um, but yeah, I guess. A raft like like a house. Um, how do you think you entertain yourself? I mean, if you have a phone, it's easier, but like if something happens to the phone. Um, maybe a small notepad and a pencil might help. Okay. I think you can also like use it as a diary or just like keep track of the. Base. If. I think it happens to the phone. I think the diary would be nice. Just keep track of what you did. Perhaps make a movie after afterwards. Um, I think that's all I have. I mean, I think the idea of a diary, um, when you bring a book. Like a small book or is that like something you could probably find on your phone. You can download on your phone or something. Yeah. Um, but maybe like doing other travel size, um, book. What's maybe one of them. If you manage to innovate, you like. Into the box. Yeah. Um, I feel like bug spring would also be a good thing. That's some, or some screen. Those are some things. Like a small travel side or something. Yeah. Also, like something that reminds this person of their home. Like this. Maybe for emotional support. I don't know. Yeah. Like a B below. I don't know. I go watch Nicholas or something with the photo. Yeah. We're saying. Yeah. Yeah. Yeah. Yeah. Yeah. Yeah. Yeah. Yeah. Yeah. Yeah. Yeah. Yeah. Yeah. Yeah. Yeah. Yeah. Yeah. Yeah. Yeah. Yeah. Yeah. Yeah. Yeah. Yeah. Yeah. Yeah.\n"
     ]
    }
   ],
   "source": [
    "wav_files = sorted([x for x in os.listdir(OUTPUT_AUDIOS) if not x.startswith(\".\")]) \n",
    "\n",
    "for file in wav_files:\n",
    "    with open(OUTPUT_CSVS + '/' + file.split('.')[0] + '.txt', mode=\"wt\") as f:\n",
    "        text = model.transcribe(OUTPUT_AUDIOS + '/' + file)\n",
    "        print('Transcription for ', file)\n",
    "        print('=========================')\n",
    "        print(text['text'])\n",
    "    \n",
    "        #saving the transcription\n",
    "        f.write(text['text'])\n",
    "        \n",
    "        #closing the current file\n",
    "        f.close()\n",
    "        \n",
    "        \n",
    "    "
   ]
  },
  {
   "cell_type": "markdown",
   "id": "f10b6411-b859-464e-b916-df45427a6fd2",
   "metadata": {},
   "source": [
    "### Congratulations! you now have your transcripts stored in `transcripts` folder.\n",
    "\n",
    "### You can use analysis tools such as [Align](https://github.com/nickduran/align-linguistic-alignment/tree/master) to perform linguistic analysis using the generated transcripts.\n",
    "\n",
    "**Note** We would recommend doing manual checking on these transcripts to correct word errors."
   ]
  },
  {
   "cell_type": "code",
   "execution_count": null,
   "id": "9161b710-310e-47f2-9146-1e6c4683e6d3",
   "metadata": {},
   "outputs": [],
   "source": []
  }
 ],
 "metadata": {
  "kernelspec": {
   "display_name": "Python 3 (ipykernel)",
   "language": "python",
   "name": "python3"
  },
  "language_info": {
   "codemirror_mode": {
    "name": "ipython",
    "version": 3
   },
   "file_extension": ".py",
   "mimetype": "text/x-python",
   "name": "python",
   "nbconvert_exporter": "python",
   "pygments_lexer": "ipython3",
   "version": "3.9.16"
  }
 },
 "nbformat": 4,
 "nbformat_minor": 5
}
